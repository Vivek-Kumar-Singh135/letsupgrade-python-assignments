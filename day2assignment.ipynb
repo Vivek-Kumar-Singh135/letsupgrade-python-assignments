{
  "nbformat": 4,
  "nbformat_minor": 0,
  "metadata": {
    "colab": {
      "name": "day2assignment.ipynb",
      "provenance": []
    },
    "kernelspec": {
      "name": "python3",
      "display_name": "Python 3"
    }
  },
  "cells": [
    {
      "cell_type": "code",
      "metadata": {
        "id": "9XXuXGBO1r4u",
        "colab_type": "code",
        "colab": {}
      },
      "source": [
        "### fun with list"
      ],
      "execution_count": null,
      "outputs": []
    },
    {
      "cell_type": "code",
      "metadata": {
        "id": "sr92lL_q1w9x",
        "colab_type": "code",
        "colab": {
          "base_uri": "https://localhost:8080/",
          "height": 34
        },
        "outputId": "70a8cd37-51c7-4dd5-f461-4c27ec883641"
      },
      "source": [
        "marks=[10,20,30,25,\"hi\"]\n",
        "print(marks)"
      ],
      "execution_count": 64,
      "outputs": [
        {
          "output_type": "stream",
          "text": [
            "[10, 20, 30, 25, 'hi']\n"
          ],
          "name": "stdout"
        }
      ]
    },
    {
      "cell_type": "code",
      "metadata": {
        "id": "ZFaKp6DN2VfY",
        "colab_type": "code",
        "colab": {
          "base_uri": "https://localhost:8080/",
          "height": 34
        },
        "outputId": "cd6cb7c0-9f2a-4856-faae-4ed1805fc1dc"
      },
      "source": [
        "marks.append(18)\n",
        "\n",
        "print(marks)"
      ],
      "execution_count": 65,
      "outputs": [
        {
          "output_type": "stream",
          "text": [
            "[10, 20, 30, 25, 'hi', 18]\n"
          ],
          "name": "stdout"
        }
      ]
    },
    {
      "cell_type": "code",
      "metadata": {
        "id": "LT8r7lgb2qgl",
        "colab_type": "code",
        "colab": {
          "base_uri": "https://localhost:8080/",
          "height": 34
        },
        "outputId": "ea194936-bbae-4efa-97dc-6c275e65f250"
      },
      "source": [
        "a = marks.index(20)\n",
        "print(a)"
      ],
      "execution_count": 66,
      "outputs": [
        {
          "output_type": "stream",
          "text": [
            "1\n"
          ],
          "name": "stdout"
        }
      ]
    },
    {
      "cell_type": "code",
      "metadata": {
        "id": "bc1NPNpr2-qc",
        "colab_type": "code",
        "colab": {
          "base_uri": "https://localhost:8080/",
          "height": 34
        },
        "outputId": "c5a1be41-6f38-4a0d-c17d-48903545b810"
      },
      "source": [
        "marks.remove(\"hi\")\n",
        "print(marks)"
      ],
      "execution_count": 68,
      "outputs": [
        {
          "output_type": "stream",
          "text": [
            "[10, 20, 30, 25, 18]\n"
          ],
          "name": "stdout"
        }
      ]
    },
    {
      "cell_type": "code",
      "metadata": {
        "id": "DOxWU3KU3Xz8",
        "colab_type": "code",
        "colab": {
          "base_uri": "https://localhost:8080/",
          "height": 34
        },
        "outputId": "72b5aeb7-4032-4bc0-bfd3-9d89b7a97e8a"
      },
      "source": [
        "marks.sort()\n",
        "print(marks)"
      ],
      "execution_count": 69,
      "outputs": [
        {
          "output_type": "stream",
          "text": [
            "[10, 18, 20, 25, 30]\n"
          ],
          "name": "stdout"
        }
      ]
    },
    {
      "cell_type": "code",
      "metadata": {
        "id": "hO-4DQjr3y-O",
        "colab_type": "code",
        "colab": {
          "base_uri": "https://localhost:8080/",
          "height": 34
        },
        "outputId": "a9044ae0-33ca-4b1d-932b-c23f8e7f8756"
      },
      "source": [
        "marks.clear()\n",
        "print(csk)"
      ],
      "execution_count": 70,
      "outputs": [
        {
          "output_type": "stream",
          "text": [
            "[]\n"
          ],
          "name": "stdout"
        }
      ]
    },
    {
      "cell_type": "code",
      "metadata": {
        "id": "WXcCRHFI34HU",
        "colab_type": "code",
        "colab": {}
      },
      "source": [
        "### fun with tuple"
      ],
      "execution_count": null,
      "outputs": []
    },
    {
      "cell_type": "code",
      "metadata": {
        "id": "8AmJLAIv4CtT",
        "colab_type": "code",
        "colab": {
          "base_uri": "https://localhost:8080/",
          "height": 34
        },
        "outputId": "bed21fe8-7dce-4b79-e441-28e62d779f2c"
      },
      "source": [
        "tup=(10,13,10,20,\"vivek\",508.5)\n",
        "print(tup)"
      ],
      "execution_count": 72,
      "outputs": [
        {
          "output_type": "stream",
          "text": [
            "(10, 13, 10, 20, 'vivek', 508.5)\n"
          ],
          "name": "stdout"
        }
      ]
    },
    {
      "cell_type": "code",
      "metadata": {
        "id": "YvPEso5C4qDa",
        "colab_type": "code",
        "colab": {
          "base_uri": "https://localhost:8080/",
          "height": 34
        },
        "outputId": "853f5772-0201-41ee-d2a6-28339fdcde1d"
      },
      "source": [
        "a = tup.index(\"vivek\")\n",
        "print(a)"
      ],
      "execution_count": 74,
      "outputs": [
        {
          "output_type": "stream",
          "text": [
            "4\n"
          ],
          "name": "stdout"
        }
      ]
    },
    {
      "cell_type": "code",
      "metadata": {
        "id": "Hlt2nhKO5G5p",
        "colab_type": "code",
        "colab": {
          "base_uri": "https://localhost:8080/",
          "height": 34
        },
        "outputId": "002ae7ef-9f4a-4269-f69e-f0dfbe0f3acc"
      },
      "source": [
        "dat=(1,True,\"hello\",0)\n",
        "print(dat.count(0))"
      ],
      "execution_count": 75,
      "outputs": [
        {
          "output_type": "stream",
          "text": [
            "1\n"
          ],
          "name": "stdout"
        }
      ]
    },
    {
      "cell_type": "code",
      "metadata": {
        "id": "wx5BA0yh5YA5",
        "colab_type": "code",
        "colab": {}
      },
      "source": [
        "###   fun with dictionary"
      ],
      "execution_count": null,
      "outputs": []
    },
    {
      "cell_type": "code",
      "metadata": {
        "id": "kwk8mSXh5fYQ",
        "colab_type": "code",
        "colab": {
          "base_uri": "https://localhost:8080/",
          "height": 34
        },
        "outputId": "0cbcc867-933c-4617-bca3-6ff8ee611034"
      },
      "source": [
        "info={\"name\":\"vivek\",\"location\":\"kolkata\",\"age\":20}\n",
        "print(info)"
      ],
      "execution_count": 76,
      "outputs": [
        {
          "output_type": "stream",
          "text": [
            "{'name': 'vivek', 'location': 'kolkata', 'age': 20}\n"
          ],
          "name": "stdout"
        }
      ]
    },
    {
      "cell_type": "code",
      "metadata": {
        "id": "GPnMJUie6HlO",
        "colab_type": "code",
        "colab": {
          "base_uri": "https://localhost:8080/",
          "height": 34
        },
        "outputId": "a432aac4-5949-4df3-aa85-d37ea8477b0d"
      },
      "source": [
        "print(info.get(\"age\"))"
      ],
      "execution_count": 77,
      "outputs": [
        {
          "output_type": "stream",
          "text": [
            "20\n"
          ],
          "name": "stdout"
        }
      ]
    },
    {
      "cell_type": "code",
      "metadata": {
        "id": "wmg31ElA6QMf",
        "colab_type": "code",
        "colab": {
          "base_uri": "https://localhost:8080/",
          "height": 34
        },
        "outputId": "3c67aeb3-ea6e-4d6a-cdd8-8946c03b41dd"
      },
      "source": [
        "info.keys()"
      ],
      "execution_count": 78,
      "outputs": [
        {
          "output_type": "execute_result",
          "data": {
            "text/plain": [
              "dict_keys(['name', 'location', 'age'])"
            ]
          },
          "metadata": {
            "tags": []
          },
          "execution_count": 78
        }
      ]
    },
    {
      "cell_type": "code",
      "metadata": {
        "id": "xV8U6L8g6Ty_",
        "colab_type": "code",
        "colab": {
          "base_uri": "https://localhost:8080/",
          "height": 34
        },
        "outputId": "b31cf000-4665-4c52-d4f5-339c63d8aa66"
      },
      "source": [
        "info.values()"
      ],
      "execution_count": 79,
      "outputs": [
        {
          "output_type": "execute_result",
          "data": {
            "text/plain": [
              "dict_values(['vivek', 'kolkata', 20])"
            ]
          },
          "metadata": {
            "tags": []
          },
          "execution_count": 79
        }
      ]
    },
    {
      "cell_type": "code",
      "metadata": {
        "id": "gDuf10a_6aM2",
        "colab_type": "code",
        "colab": {
          "base_uri": "https://localhost:8080/",
          "height": 34
        },
        "outputId": "4e93d0a5-478c-4fb3-8d3f-34edadc77b7c"
      },
      "source": [
        "info[\"college\"]=\"Amity University\"\n",
        "print(info)"
      ],
      "execution_count": 80,
      "outputs": [
        {
          "output_type": "stream",
          "text": [
            "{'name': 'vivek', 'location': 'kolkata', 'age': 20, 'college': 'Amity University'}\n"
          ],
          "name": "stdout"
        }
      ]
    },
    {
      "cell_type": "code",
      "metadata": {
        "id": "i9bgI56k6jXm",
        "colab_type": "code",
        "colab": {
          "base_uri": "https://localhost:8080/",
          "height": 34
        },
        "outputId": "7845e731-727e-4873-bf06-d8f2d328feeb"
      },
      "source": [
        "info.pop(\"age\")\n",
        "print(info)"
      ],
      "execution_count": 81,
      "outputs": [
        {
          "output_type": "stream",
          "text": [
            "{'name': 'vivek', 'location': 'kolkata', 'college': 'Amity University'}\n"
          ],
          "name": "stdout"
        }
      ]
    },
    {
      "cell_type": "code",
      "metadata": {
        "id": "DlEBUtmh6reO",
        "colab_type": "code",
        "colab": {
          "base_uri": "https://localhost:8080/",
          "height": 51
        },
        "outputId": "4c30dac4-7172-46dd-d41c-2a64b2910eda"
      },
      "source": [
        "info[\"school\"]=\"APS BKP\"\n",
        "print(info)\n",
        "info.popitem()\n",
        "print(info)"
      ],
      "execution_count": 82,
      "outputs": [
        {
          "output_type": "stream",
          "text": [
            "{'name': 'vivek', 'location': 'kolkata', 'college': 'Amity University', 'school': 'APS BKP'}\n",
            "{'name': 'vivek', 'location': 'kolkata', 'college': 'Amity University'}\n"
          ],
          "name": "stdout"
        }
      ]
    },
    {
      "cell_type": "code",
      "metadata": {
        "id": "tkIKpRsy7MNu",
        "colab_type": "code",
        "colab": {}
      },
      "source": [
        "#### playing with sets"
      ],
      "execution_count": null,
      "outputs": []
    },
    {
      "cell_type": "code",
      "metadata": {
        "id": "3KlS4k0r7QbF",
        "colab_type": "code",
        "colab": {
          "base_uri": "https://localhost:8080/",
          "height": 34
        },
        "outputId": "f8b283ab-ff5f-4fa5-b56f-e16ddca7fe9e"
      },
      "source": [
        "\n",
        "set1={10,20,20,50,'a','x','y'}\n",
        "print(set1)"
      ],
      "execution_count": 86,
      "outputs": [
        {
          "output_type": "stream",
          "text": [
            "{'y', 'x', 10, 50, 'a', 20}\n"
          ],
          "name": "stdout"
        }
      ]
    },
    {
      "cell_type": "code",
      "metadata": {
        "id": "pV6gmEUR7jC9",
        "colab_type": "code",
        "colab": {
          "base_uri": "https://localhost:8080/",
          "height": 34
        },
        "outputId": "1f8fc5bc-636e-4f4b-e123-b179fef6eae3"
      },
      "source": [
        "set1.add(\"hello\")\n",
        "print(set1)"
      ],
      "execution_count": 87,
      "outputs": [
        {
          "output_type": "stream",
          "text": [
            "{'y', 'x', 10, 'hello', 50, 'a', 20}\n"
          ],
          "name": "stdout"
        }
      ]
    },
    {
      "cell_type": "code",
      "metadata": {
        "id": "OzBBiF3y76SM",
        "colab_type": "code",
        "colab": {
          "base_uri": "https://localhost:8080/",
          "height": 34
        },
        "outputId": "1ff4b03c-2228-4e00-88de-cea3791e0ebe"
      },
      "source": [
        "set2= {20.85,15,'vivek','x','y',10}\n",
        "set3=set1.union(set2)\n",
        "print(set3)"
      ],
      "execution_count": 90,
      "outputs": [
        {
          "output_type": "stream",
          "text": [
            "{'y', 'x', 10, 'hello', 15, 'vivek', 50, 'a', 20.85}\n"
          ],
          "name": "stdout"
        }
      ]
    },
    {
      "cell_type": "code",
      "metadata": {
        "id": "HB3qa88n8Ubb",
        "colab_type": "code",
        "colab": {
          "base_uri": "https://localhost:8080/",
          "height": 34
        },
        "outputId": "3fb8257b-b1f3-4225-9b5b-13c9443e9a93"
      },
      "source": [
        "set3=set1.intersection(set2)\n",
        "print(set3)"
      ],
      "execution_count": 91,
      "outputs": [
        {
          "output_type": "stream",
          "text": [
            "{'x', 10}\n"
          ],
          "name": "stdout"
        }
      ]
    },
    {
      "cell_type": "code",
      "metadata": {
        "id": "fHQ1yG-h8b1C",
        "colab_type": "code",
        "colab": {
          "base_uri": "https://localhost:8080/",
          "height": 34
        },
        "outputId": "74087d6d-04ea-4ca4-d661-1536eac10fdb"
      },
      "source": [
        "set3=set2.difference(set1)\n",
        "print(set3)"
      ],
      "execution_count": null,
      "outputs": [
        {
          "output_type": "stream",
          "text": [
            "{'b', 'a', 'c', 15}\n"
          ],
          "name": "stdout"
        }
      ]
    },
    {
      "cell_type": "code",
      "metadata": {
        "id": "PP9N0MnR80Kq",
        "colab_type": "code",
        "colab": {
          "base_uri": "https://localhost:8080/",
          "height": 34
        },
        "outputId": "6c1743bd-1009-4e32-ff77-1f05d3dcb9d8"
      },
      "source": [
        "set3=set1.symmetric_difference(set2)\n",
        "print(set3)"
      ],
      "execution_count": null,
      "outputs": [
        {
          "output_type": "stream",
          "text": [
            "{80, 50, 'a', 20, 'b', 'c', 15}\n"
          ],
          "name": "stdout"
        }
      ]
    },
    {
      "cell_type": "code",
      "metadata": {
        "id": "w2d_6-ZJ9Jph",
        "colab_type": "code",
        "colab": {}
      },
      "source": [
        ""
      ],
      "execution_count": null,
      "outputs": []
    }
  ]
}