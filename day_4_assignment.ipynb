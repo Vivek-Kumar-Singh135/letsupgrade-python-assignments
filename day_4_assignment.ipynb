{
  "nbformat": 4,
  "nbformat_minor": 0,
  "metadata": {
    "colab": {
      "name": "day 4_assignment.ipynb",
      "provenance": []
    },
    "kernelspec": {
      "name": "python3",
      "display_name": "Python 3"
    }
  },
  "cells": [
    {
      "cell_type": "code",
      "metadata": {
        "id": "eLbknL1WDdHw",
        "colab_type": "code",
        "colab": {}
      },
      "source": [
        "\"\"\"assignment 1 armstrong number between 1042000 and 702648265\"\"\""
      ],
      "execution_count": null,
      "outputs": []
    },
    {
      "cell_type": "code",
      "metadata": {
        "id": "USOcyktSECZ_",
        "colab_type": "code",
        "colab": {
          "base_uri": "https://localhost:8080/",
          "height": 34
        },
        "outputId": "c813258a-fc50-4b34-f2bd-1964c96c06ed"
      },
      "source": [
        "import math\n",
        "for i in range(1042000,702648265):\n",
        "  x=i\n",
        "  digits=0\n",
        "  while x>0 :\n",
        "    digits = digits+1\n",
        "    x = math.floor(x/10)\n",
        "  sum =0\n",
        "  x=i\n",
        "  while x>0 :\n",
        "    mod=x%10\n",
        "    sum=sum+(mod**digits)\n",
        "    x=math.floor(x/10)\n",
        "  if sum==i:\n",
        "    print(\"the 1st armstrong no. between 1042000 and 702648265 is:  \",sum)\n",
        "    break\n",
        " \n"
      ],
      "execution_count": 14,
      "outputs": [
        {
          "output_type": "stream",
          "text": [
            "the 1st armstrong no. between 1042000 and 702648265 is:   1741725\n"
          ],
          "name": "stdout"
        }
      ]
    },
    {
      "cell_type": "code",
      "metadata": {
        "id": "EMBAsAt10pq0",
        "colab_type": "code",
        "colab": {}
      },
      "source": [
        ""
      ],
      "execution_count": null,
      "outputs": []
    }
  ]
}