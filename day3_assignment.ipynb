{
  "nbformat": 4,
  "nbformat_minor": 0,
  "metadata": {
    "colab": {
      "name": "day3_assignment.ipynb",
      "provenance": []
    },
    "kernelspec": {
      "name": "python3",
      "display_name": "Python 3"
    }
  },
  "cells": [
    {
      "cell_type": "code",
      "metadata": {
        "id": "BPUmJyW--FOJ",
        "colab_type": "code",
        "colab": {}
      },
      "source": [
        "\"\"\" assignment 1 pilot test\"\"\""
      ],
      "execution_count": null,
      "outputs": []
    },
    {
      "cell_type": "code",
      "metadata": {
        "id": "rXPZoVny-NaL",
        "colab_type": "code",
        "colab": {
          "base_uri": "https://localhost:8080/",
          "height": 51
        },
        "outputId": "da2e285d-b8f9-4bb5-ce2d-2f98d5fb16e1"
      },
      "source": [
        "height = int(input(\"enter your current altitude\"))\n",
        "if height<1000 :\n",
        "  print(\"you can land\")\n",
        "elif height>5000 :\n",
        "  print(\"turn around and attempt later\")\n",
        "else :\n",
        "  print(\"first come down to 1000 feet\")"
      ],
      "execution_count": 16,
      "outputs": [
        {
          "output_type": "stream",
          "text": [
            "enter your current altitude3025\n",
            "first come down to 1000 feet\n"
          ],
          "name": "stdout"
        }
      ]
    },
    {
      "cell_type": "code",
      "metadata": {
        "colab_type": "code",
        "id": "fDUMeE3EBFpt",
        "colab": {}
      },
      "source": [
        "### assignment 2  print all prime numbers betweeen 1 and 200"
      ],
      "execution_count": 4,
      "outputs": []
    },
    {
      "cell_type": "code",
      "metadata": {
        "id": "ADYhQQ77BcmS",
        "colab_type": "code",
        "colab": {
          "base_uri": "https://localhost:8080/",
          "height": 816
        },
        "outputId": "b6b45149-db1a-438c-e5c6-b8f210ef3154"
      },
      "source": [
        "\n",
        "for i in range(1,201):\n",
        "  flag=True\n",
        "  for j in range(2,i) :\n",
        "    if i %j==0 :\n",
        "      flag=False\n",
        "      break\n",
        "  if flag :\n",
        "    print(i)\n",
        "\n"
      ],
      "execution_count": 15,
      "outputs": [
        {
          "output_type": "stream",
          "text": [
            "1\n",
            "2\n",
            "3\n",
            "5\n",
            "7\n",
            "11\n",
            "13\n",
            "17\n",
            "19\n",
            "23\n",
            "29\n",
            "31\n",
            "37\n",
            "41\n",
            "43\n",
            "47\n",
            "53\n",
            "59\n",
            "61\n",
            "67\n",
            "71\n",
            "73\n",
            "79\n",
            "83\n",
            "89\n",
            "97\n",
            "101\n",
            "103\n",
            "107\n",
            "109\n",
            "113\n",
            "127\n",
            "131\n",
            "137\n",
            "139\n",
            "149\n",
            "151\n",
            "157\n",
            "163\n",
            "167\n",
            "173\n",
            "179\n",
            "181\n",
            "191\n",
            "193\n",
            "197\n",
            "199\n"
          ],
          "name": "stdout"
        }
      ]
    },
    {
      "cell_type": "code",
      "metadata": {
        "id": "1qAWu0DwBnuh",
        "colab_type": "code",
        "colab": {}
      },
      "source": [
        ""
      ],
      "execution_count": null,
      "outputs": []
    }
  ]
}