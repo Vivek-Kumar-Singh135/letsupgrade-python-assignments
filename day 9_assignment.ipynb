{
 "cells": [
  {
   "cell_type": "markdown",
   "metadata": {},
   "source": [
    "# assignment 1"
   ]
  },
  {
   "cell_type": "code",
   "execution_count": 1,
   "metadata": {},
   "outputs": [],
   "source": [
    "def countdigits(num) :\n",
    "    count = 0\n",
    "    while num>0 :\n",
    "        count = count+1\n",
    "        num=int(num/10)\n",
    "    return count"
   ]
  },
  {
   "cell_type": "code",
   "execution_count": 90,
   "metadata": {},
   "outputs": [],
   "source": [
    "def armstrong(items):\n",
    "    for i in items :\n",
    "        count = 0\n",
    "        j=i\n",
    "        while j>0 :\n",
    "            count = count+1\n",
    "            j=int(j/10)\n",
    "            \n",
    "        j=i\n",
    "        arm = 0\n",
    "        \n",
    "        while j>0 :\n",
    "            m=j%10\n",
    "            arm = arm + m**count\n",
    "            j = int(j/10)\n",
    "            \n",
    "        if arm==i :\n",
    "            yield i"
   ]
  },
  {
   "cell_type": "code",
   "execution_count": 91,
   "metadata": {},
   "outputs": [],
   "source": [
    "x = armstrong(range(1,1001))"
   ]
  },
  {
   "cell_type": "code",
   "execution_count": 92,
   "metadata": {},
   "outputs": [
    {
     "name": "stdout",
     "output_type": "stream",
     "text": [
      "[1, 2, 3, 4, 5, 6, 7, 8, 9, 153, 370, 371, 407]\n"
     ]
    }
   ],
   "source": [
    "print(list(x))"
   ]
  },
  {
   "cell_type": "markdown",
   "metadata": {},
   "source": [
    "# assignment 2 "
   ]
  },
  {
   "cell_type": "code",
   "execution_count": 99,
   "metadata": {},
   "outputs": [
    {
     "name": "stdout",
     "output_type": "stream",
     "text": [
      "Overwriting vivek.py\n"
     ]
    }
   ],
   "source": [
    "%%writefile vivek.py\n",
    "\n",
    "\"\"\"we are learning to use pylint\"\"\"\n",
    "\n",
    "def iseven(num):\n",
    "    \"\"\"we are using this function to test\"\"\"\n",
    "    if num%2 == 0:\n",
    "        print(\"even\")\n",
    "    else:\n",
    "        print(\"odd\")"
   ]
  },
  {
   "cell_type": "code",
   "execution_count": 26,
   "metadata": {},
   "outputs": [],
   "source": [
    "import pylint"
   ]
  },
  {
   "cell_type": "code",
   "execution_count": 100,
   "metadata": {
    "scrolled": false
   },
   "outputs": [
    {
     "name": "stdout",
     "output_type": "stream",
     "text": [
      "\n",
      "-------------------------------------------------------------------\n",
      "\n",
      "Your code has been rated at 10.00/10 (previous run: 7.50/10, +2.50)\n",
      "\n",
      "\n",
      "\n"
     ]
    }
   ],
   "source": [
    "! pylint \"vivek.py\""
   ]
  },
  {
   "cell_type": "code",
   "execution_count": 101,
   "metadata": {},
   "outputs": [
    {
     "name": "stdout",
     "output_type": "stream",
     "text": [
      "Writing letsunittest.py\n"
     ]
    }
   ],
   "source": [
    "%%writefile letsunittest.py\n",
    "def square(num):\n",
    "    return num*num"
   ]
  },
  {
   "cell_type": "code",
   "execution_count": 103,
   "metadata": {},
   "outputs": [
    {
     "data": {
      "text/plain": [
       "49"
      ]
     },
     "execution_count": 103,
     "metadata": {},
     "output_type": "execute_result"
    }
   ],
   "source": [
    "import letsunittest\n",
    "letsunittest.square(7)"
   ]
  },
  {
   "cell_type": "code",
   "execution_count": 104,
   "metadata": {},
   "outputs": [
    {
     "name": "stdout",
     "output_type": "stream",
     "text": [
      "Writing letsgo.py\n"
     ]
    }
   ],
   "source": [
    "%%writefile letsgo.py\n",
    "import unittest\n",
    "import letsunittest\n",
    "\n",
    "class letschecknow(unittest.TestCase):\n",
    "    def check(self) :\n",
    "        num1 = 10\n",
    "        res=letsunittest.square(num1)\n",
    "        self.assertEquals(res, 100)\n",
    "        \n",
    "if __name__==\"__main__\" :\n",
    "    unittest.main()\n",
    "        "
   ]
  },
  {
   "cell_type": "code",
   "execution_count": 105,
   "metadata": {},
   "outputs": [
    {
     "name": "stderr",
     "output_type": "stream",
     "text": [
      "\n",
      "----------------------------------------------------------------------\n",
      "Ran 0 tests in 0.000s\n",
      "\n",
      "OK\n"
     ]
    }
   ],
   "source": [
    "! python letsgo.py"
   ]
  },
  {
   "cell_type": "code",
   "execution_count": null,
   "metadata": {},
   "outputs": [],
   "source": []
  }
 ],
 "metadata": {
  "kernelspec": {
   "display_name": "Python 3",
   "language": "python",
   "name": "python3"
  },
  "language_info": {
   "codemirror_mode": {
    "name": "ipython",
    "version": 3
   },
   "file_extension": ".py",
   "mimetype": "text/x-python",
   "name": "python",
   "nbconvert_exporter": "python",
   "pygments_lexer": "ipython3",
   "version": "3.7.6"
  }
 },
 "nbformat": 4,
 "nbformat_minor": 4
}
