{
  "nbformat": 4,
  "nbformat_minor": 0,
  "metadata": {
    "colab": {
      "name": "day 6_assignment.ipynb",
      "provenance": []
    },
    "kernelspec": {
      "name": "python3",
      "display_name": "Python 3"
    }
  },
  "cells": [
    {
      "cell_type": "code",
      "metadata": {
        "id": "w_jiIcxZsjkt",
        "colab_type": "code",
        "colab": {}
      },
      "source": [
        "###assignment 1 "
      ],
      "execution_count": 31,
      "outputs": []
    },
    {
      "cell_type": "code",
      "metadata": {
        "id": "ZlfgUF1Wst1u",
        "colab_type": "code",
        "colab": {}
      },
      "source": [
        "class bank_act:\n",
        "\n",
        "  def __init__(self,name,amt):\n",
        "    self.name=name\n",
        "    self.bal=amt\n",
        "\n",
        "  def deposit(self,at):\n",
        "    self.bal=self.bal+at\n",
        "    print(\"balance=\",self.bal)\n",
        "\n",
        "  def withdrawal(self,at):\n",
        "    if at>self.bal:\n",
        "      print(\"transaction not possible\")\n",
        "    \n",
        "    else:\n",
        "      self.bal=self.bal-at\n",
        "      print(\"balance=\",self.bal)"
      ],
      "execution_count": 37,
      "outputs": []
    },
    {
      "cell_type": "code",
      "metadata": {
        "id": "FDIZCCAsvGpa",
        "colab_type": "code",
        "colab": {
          "base_uri": "https://localhost:8080/",
          "height": 340
        },
        "outputId": "224b92e2-889c-4a94-9b7a-fb50fb59a247"
      },
      "source": [
        "customer=input(\"enter your name: \")\n",
        "fst_dep=int(input(\"enter first deposit amount: \"))\n",
        "customer=bank_act(customer,fst_dep)\n",
        "ch=int(input(\"press 1 to do a transaction else press 0 to exit: \"))\n",
        "if ch==1:\n",
        "  while ch==1:\n",
        "    op=int(input(\"press 3 for deposit or 4 for withdrawal: \"))\n",
        "    money=int(input(\"enter the amount: \"))\n",
        "    if op==3:\n",
        "      customer.deposit(money)\n",
        "    else :\n",
        "      customer.withdrawal(money)\n",
        "    \n",
        "    ch=int(input(\"press 1 to again do a transaction else press 0 to exit: \"))\n"
      ],
      "execution_count": 39,
      "outputs": [
        {
          "output_type": "stream",
          "text": [
            "enter your name: vivek\n",
            "enter first deposit amount: 1000\n",
            "press 1 to do a transaction else press 0 to exit: 1\n",
            "press 3 for deposit or 4 for withdrawal: 4\n",
            "enter the amount: 2000\n",
            "transaction not possible\n",
            "press 1 to again do a transaction else press 0 to exit: 1\n",
            "press 3 for deposit or 4 for withdrawal: 3\n",
            "enter the amount: 2000\n",
            "balance= 3000\n",
            "press 1 to again do a transaction else press 0 to exit: 1\n",
            "press 3 for deposit or 4 for withdrawal: 4\n",
            "enter the amount: 1500\n",
            "balance= 1500\n",
            "press 1 to again do a transaction else press 0 to exit: 1\n",
            "press 3 for deposit or 4 for withdrawal: 4\n",
            "enter the amount: 2000\n",
            "transaction not possible\n",
            "press 1 to again do a transaction else press 0 to exit: 0\n"
          ],
          "name": "stdout"
        }
      ]
    },
    {
      "cell_type": "code",
      "metadata": {
        "id": "_N17ootVx_47",
        "colab_type": "code",
        "colab": {
          "base_uri": "https://localhost:8080/",
          "height": 35
        },
        "outputId": "2c079496-6c41-4760-e8cb-cc6948053b58"
      },
      "source": [
        "\"\"\"assignment 2 creating a cone class\"\"\""
      ],
      "execution_count": 16,
      "outputs": [
        {
          "output_type": "execute_result",
          "data": {
            "application/vnd.google.colaboratory.intrinsic+json": {
              "type": "string"
            },
            "text/plain": [
              "'assignment 2 creating a cone class'"
            ]
          },
          "metadata": {
            "tags": []
          },
          "execution_count": 16
        }
      ]
    },
    {
      "cell_type": "code",
      "metadata": {
        "id": "expJvmAH2Ocm",
        "colab_type": "code",
        "colab": {}
      },
      "source": [
        "class cone:\n",
        "  def __init__(self,radius,height):\n",
        "    self.r=radius\n",
        "    self.h=height\n",
        "\n",
        "  def surf_ar(self):\n",
        "    area_of_base=3.14*(self.r**2)\n",
        "    area_of_side=3.14*self.r*(((self.r**2)+(self.h**2))**0.5)\n",
        "    print(\"area of base of the cone=\", area_of_base)\n",
        "    print(\"area of side of the cone=\",area_of_side)\n",
        "\n",
        "  def vol(self):\n",
        "    return (3.14*(self.r**2)*self.h/3)\n"
      ],
      "execution_count": 43,
      "outputs": []
    },
    {
      "cell_type": "code",
      "metadata": {
        "id": "KMbxwwA7BInu",
        "colab_type": "code",
        "colab": {
          "base_uri": "https://localhost:8080/",
          "height": 102
        },
        "outputId": "60e7c83f-5fdf-4955-86af-6cc81b3ef4fe"
      },
      "source": [
        "a=int(input(\"base radius of the cone: \"))\n",
        "b=int(input(\"the height of the cone: \"))\n",
        "cone1=cone(a,b)\n",
        "cone1.surf_ar()\n",
        "print(\"volume of cone1=\",cone1.vol())"
      ],
      "execution_count": 44,
      "outputs": [
        {
          "output_type": "stream",
          "text": [
            "base radius of the cone: 3\n",
            "the height of the cone: 4\n",
            "area of base of the cone= 28.26\n",
            "area of side of the cone= 47.1\n",
            "volume of cone1= 37.68\n"
          ],
          "name": "stdout"
        }
      ]
    },
    {
      "cell_type": "code",
      "metadata": {
        "id": "twelX-47C2Qq",
        "colab_type": "code",
        "colab": {}
      },
      "source": [
        ""
      ],
      "execution_count": null,
      "outputs": []
    }
  ]
}