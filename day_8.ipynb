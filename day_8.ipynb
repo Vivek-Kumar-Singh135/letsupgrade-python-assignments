{
 "cells": [
  {
   "cell_type": "code",
   "execution_count": 1,
   "metadata": {
    "colab": {
     "base_uri": "https://localhost:8080/",
     "height": 35
    },
    "colab_type": "code",
    "id": "hzJpfPRmla-O",
    "outputId": "cebe4b53-8357-47f2-f676-42690817927b"
   },
   "outputs": [
    {
     "data": {
      "application/vnd.google.colaboratory.intrinsic+json": {
       "type": "string"
      },
      "text/plain": [
       "' assignment 1 build a decorator function to take input for any function of our choice'"
      ]
     },
     "execution_count": 1,
     "metadata": {
      "tags": []
     },
     "output_type": "execute_result"
    }
   ],
   "source": [
    "\"\"\" assignment 1 build a decorator function to take input for any function of our choice\"\"\""
   ]
  },
  {
   "cell_type": "code",
   "execution_count": 23,
   "metadata": {
    "colab": {},
    "colab_type": "code",
    "id": "2QTCey0jmItM"
   },
   "outputs": [],
   "source": [
    "def takeinput(func):\n",
    "    def input1():\n",
    "\n",
    "      a=int(input(\"enter a number to check for odd-even: \"))\n",
    "\n",
    "      func(a)\n",
    "    \n",
    "      print(\"next number is\",a+1)\n",
    "\n",
    "    return input1\n",
    "\n",
    "  \n",
    "\n"
   ]
  },
  {
   "cell_type": "code",
   "execution_count": 24,
   "metadata": {
    "colab": {},
    "colab_type": "code",
    "id": "w0UV6xIjoSce"
   },
   "outputs": [],
   "source": [
    "def oddeven(num):\n",
    "  if num%2==0:\n",
    "    print(\"even\")\n",
    "  else :\n",
    "    print(\"odd\")"
   ]
  },
  {
   "cell_type": "code",
   "execution_count": 28,
   "metadata": {
    "colab": {},
    "colab_type": "code",
    "id": "LO-Quydzo9Lw"
   },
   "outputs": [],
   "source": [
    "oddeven=takeinput(oddeven)\n"
   ]
  },
  {
   "cell_type": "code",
   "execution_count": 27,
   "metadata": {
    "colab": {
     "base_uri": "https://localhost:8080/",
     "height": 68
    },
    "colab_type": "code",
    "id": "_koC7MgqpLp5",
    "outputId": "3f4c4f7f-100a-404c-bad5-f3ab44bfbd24"
   },
   "outputs": [
    {
     "name": "stdout",
     "output_type": "stream",
     "text": [
      "enter a number to check for odd-even: 23\n",
      "odd\n",
      "next number is 24\n"
     ]
    }
   ],
   "source": [
    "oddeven()"
   ]
  },
  {
   "cell_type": "code",
   "execution_count": null,
   "metadata": {
    "colab": {},
    "colab_type": "code",
    "id": "9vwKPsngpObg"
   },
   "outputs": [],
   "source": [
    ""
   ]
  }
 ],
 "metadata": {
  "colab": {
   "name": "day 8.ipynb",
   "provenance": []
  },
  "kernelspec": {
   "display_name": "Python 3",
   "name": "python3"
  }
 },
 "nbformat": 4,
 "nbformat_minor": 0
}
